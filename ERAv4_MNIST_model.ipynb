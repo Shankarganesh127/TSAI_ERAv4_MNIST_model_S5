{
 "cells": [
  {
   "cell_type": "code",
   "execution_count": 26,
   "id": "c56f712a",
   "metadata": {},
   "outputs": [],
   "source": [
    "from __future__ import print_function\n",
    "import torch\n",
    "import torch.nn as nn\n",
    "import torch.nn.functional as F\n",
    "import torch.optim as optim\n",
    "from torchvision import datasets, transforms"
   ]
  },
  {
   "cell_type": "code",
   "execution_count": 3,
   "id": "fd117530",
   "metadata": {},
   "outputs": [],
   "source": [
    "from torchsummary import summary\n",
    "use_cuda = torch.cuda.is_available()\n",
    "device = torch.device(\"cuda\" if use_cuda else \"cpu\")"
   ]
  },
  {
   "cell_type": "code",
   "execution_count": 36,
   "id": "38aeb0cc",
   "metadata": {},
   "outputs": [],
   "source": [
    "torch.manual_seed(1)\n",
    "batch_size = 64\n",
    "\n",
    "kwargs = {'num_workers': 1, 'pin_memory': True} if use_cuda else {}\n",
    "train_loader = torch.utils.data.DataLoader(\n",
    "    datasets.MNIST('../data', train=True, download=True,\n",
    "                    transform=transforms.Compose([\n",
    "                        transforms.RandomRotation(15),\n",
    "                        transforms.RandomAffine(degrees=0, translate=(0.15, 0.15)),\n",
    "                        transforms.ToTensor(),\n",
    "                        transforms.Normalize((0.131,), (0.308,)) # mean 0.13101533792088266\n",
    "                    ])),\n",
    "    batch_size=batch_size, shuffle=True, **kwargs)\n",
    "test_loader = torch.utils.data.DataLoader(\n",
    "    datasets.MNIST('../data', train=False, transform=transforms.Compose([\n",
    "                        transforms.ToTensor(),\n",
    "                        transforms.Normalize((0.131,), (0.308,))\n",
    "                    ])),\n",
    "    batch_size=batch_size, shuffle=True, **kwargs)\n"
   ]
  },
  {
   "cell_type": "code",
   "execution_count": 37,
   "id": "477e6132",
   "metadata": {},
   "outputs": [],
   "source": [
    "# Data to plot accuracy and loss graphs\n",
    "train_losses = []\n",
    "test_losses = []\n",
    "train_acc = []\n",
    "test_acc = []\n",
    "train_batch_losses = []\n",
    "train_batch_acc = []\n",
    "test_batch_losses = []\n",
    "test_batch_acc = []\n",
    "\n",
    "def GetCorrectPredCount(pPrediction, pLabels):\n",
    "  return pPrediction.argmax(dim=1).eq(pLabels).sum().item()"
   ]
  },
  {
   "cell_type": "code",
   "execution_count": 38,
   "id": "6b375c73",
   "metadata": {},
   "outputs": [],
   "source": [
    "from tqdm import tqdm\n",
    "def train(model, device, train_loader, optimizer, criterion):\n",
    "    model.train()\n",
    "    pbar = tqdm(train_loader)\n",
    "    train_loss = 0\n",
    "    correct = 0\n",
    "    processed = 0\n",
    "    for batch_idx, (data, target) in enumerate(pbar):\n",
    "        data, target = data.to(device), target.to(device)\n",
    "        optimizer.zero_grad()\n",
    "        output = model(data)\n",
    "        #loss = F.nll_loss(output, target)\n",
    "        loss = criterion(output, target)\n",
    "        train_loss+=loss.item()\n",
    "        train_batch_losses.append(loss.item()) # Store batch loss\n",
    "        loss.backward()\n",
    "        optimizer.step()\n",
    "        correct += GetCorrectPredCount(output, target)\n",
    "        processed += len(data)\n",
    "        Accuracy = float(100*correct/processed)\n",
    "        #pbar.set_description(desc= f'loss={loss.item()} batch_id={batch_idx} Accuracy={Accuracy}')\n",
    "        train_batch_acc.append(Accuracy) # Store batch accuracy\n",
    "        pbar.set_description(desc= f'loss={train_loss/len(train_loader)} batch_id={batch_idx} Accuracy={Accuracy}')\n",
    "    train_acc.append(Accuracy)\n",
    "    train_losses.append(train_loss/len(train_loader))\n",
    "\n",
    "\n",
    "def test(model, device, test_loader):\n",
    "    model.eval()\n",
    "    test_loss = 0\n",
    "    correct = 0\n",
    "    with torch.no_grad():\n",
    "        for data, target in test_loader:\n",
    "            data, target = data.to(device), target.to(device)\n",
    "            output = model(data)\n",
    "            #test_loss += F.nll_loss(output, target, reduction='sum').item()  # sum up batch loss\n",
    "            loss = criterion(output, target).item()\n",
    "            test_loss += loss\n",
    "            test_batch_losses.append(loss)\n",
    "            #pred = output.argmax(dim=1, keepdim=True)  # get the index of the max log-probability\n",
    "            #correct += pred.eq(target.view_as(pred)).sum().item()\n",
    "            correct += GetCorrectPredCount(output, target)\n",
    "            test_batch_acc.append(100. * correct / len(test_loader.dataset)) # Store batch accuracy\n",
    "\n",
    "    test_loss /= len(test_loader.dataset)\n",
    "    test_acc.append(100. * correct / len(test_loader.dataset))\n",
    "    test_losses.append(test_loss)\n",
    "    Accuracy = float(float(100. * correct) / len(test_loader.dataset))\n",
    "\n",
    "    print('\\nTest set: Average loss: {:.2f}, Accuracy: {}/{} ({:.2f}%)\\n'.format(\n",
    "        test_loss, correct, len(test_loader.dataset),\n",
    "        Accuracy))"
   ]
  },
  {
   "cell_type": "code",
   "execution_count": 41,
   "id": "d30cf6b9",
   "metadata": {},
   "outputs": [],
   "source": [
    "class Net(nn.Module):\n",
    "    def __init__(self):\n",
    "        super(Net, self).__init__()\n",
    "        self.conv1 = nn.Sequential(\n",
    "            nn.Conv2d(1, 8, 3, padding=1, bias=False),\n",
    "            nn.BatchNorm2d(8),\n",
    "            nn.ReLU(),\n",
    "            nn.Dropout(0.05),\n",
    "            nn.Conv2d(8, 16, 3, padding=1, bias=False),\n",
    "            nn.BatchNorm2d(16),\n",
    "            nn.ReLU(),\n",
    "            nn.Dropout(0.05),\n",
    "            nn.MaxPool2d(2,2)\n",
    "        )\n",
    "        self.conv2 = nn.Sequential(\n",
    "            nn.Conv2d(16, 32, 3, padding=1, bias=False),\n",
    "            nn.BatchNorm2d(32),\n",
    "            nn.ReLU(),\n",
    "            nn.Dropout(0.05),\n",
    "            nn.Conv2d(32, 40, 3, padding=1, bias=False),\n",
    "            nn.BatchNorm2d(40),\n",
    "            nn.ReLU(),\n",
    "            nn.Dropout(0.05),\n",
    "            nn.MaxPool2d(2,2)\n",
    "        )\n",
    "        self.gap = nn.AdaptiveAvgPool2d(1)\n",
    "        self.fc = nn.Linear(40, 10)\n",
    "    def forward(self, x):\n",
    "        x = self.conv1(x)\n",
    "        x = self.conv2(x)\n",
    "        x = self.gap(x)\n",
    "        x = x.view(x.size(0), -1)\n",
    "        x = self.fc(x)\n",
    "        return x"
   ]
  },
  {
   "cell_type": "code",
   "execution_count": 42,
   "id": "1ab6f7ce",
   "metadata": {},
   "outputs": [
    {
     "name": "stdout",
     "output_type": "stream",
     "text": [
      "----------------------------------------------------------------\n",
      "        Layer (type)               Output Shape         Param #\n",
      "================================================================\n",
      "            Conv2d-1            [-1, 8, 28, 28]              72\n",
      "       BatchNorm2d-2            [-1, 8, 28, 28]              16\n",
      "              ReLU-3            [-1, 8, 28, 28]               0\n",
      "           Dropout-4            [-1, 8, 28, 28]               0\n",
      "            Conv2d-5           [-1, 16, 28, 28]           1,152\n",
      "       BatchNorm2d-6           [-1, 16, 28, 28]              32\n",
      "              ReLU-7           [-1, 16, 28, 28]               0\n",
      "           Dropout-8           [-1, 16, 28, 28]               0\n",
      "         MaxPool2d-9           [-1, 16, 14, 14]               0\n",
      "           Conv2d-10           [-1, 32, 14, 14]           4,608\n",
      "      BatchNorm2d-11           [-1, 32, 14, 14]              64\n",
      "             ReLU-12           [-1, 32, 14, 14]               0\n",
      "          Dropout-13           [-1, 32, 14, 14]               0\n",
      "           Conv2d-14           [-1, 40, 14, 14]          11,520\n",
      "      BatchNorm2d-15           [-1, 40, 14, 14]              80\n",
      "             ReLU-16           [-1, 40, 14, 14]               0\n",
      "          Dropout-17           [-1, 40, 14, 14]               0\n",
      "        MaxPool2d-18             [-1, 40, 7, 7]               0\n",
      "AdaptiveAvgPool2d-19             [-1, 40, 1, 1]               0\n",
      "           Linear-20                   [-1, 10]             410\n",
      "================================================================\n",
      "Total params: 17,954\n",
      "Trainable params: 17,954\n",
      "Non-trainable params: 0\n",
      "----------------------------------------------------------------\n",
      "Input size (MB): 0.00\n",
      "Forward/backward pass size (MB): 1.04\n",
      "Params size (MB): 0.07\n",
      "Estimated Total Size (MB): 1.12\n",
      "----------------------------------------------------------------\n"
     ]
    }
   ],
   "source": [
    "model = Net().to(device)\n",
    "summary(model, input_size=(1, 28, 28))"
   ]
  },
  {
   "cell_type": "code",
   "execution_count": 43,
   "id": "d947fc5d",
   "metadata": {},
   "outputs": [
    {
     "data": {
      "text/plain": [
       "{'T_max': 15,\n",
       " 'eta_min': 0.0,\n",
       " 'base_lrs': [0.001],\n",
       " 'last_epoch': 0,\n",
       " '_step_count': 1,\n",
       " '_is_initial': False,\n",
       " '_get_lr_called_within_step': False,\n",
       " '_last_lr': [0.001]}"
      ]
     },
     "execution_count": 43,
     "metadata": {},
     "output_type": "execute_result"
    }
   ],
   "source": [
    "optimizer = optim.Adam(model.parameters(), lr=0.001, weight_decay=1e-4)\n",
    "criterion = nn.CrossEntropyLoss(label_smoothing=0.1)\n",
    "scheduler = optim.lr_scheduler.CosineAnnealingLR(optimizer, T_max=15)\n",
    "scheduler.state_dict()"
   ]
  },
  {
   "cell_type": "code",
   "execution_count": 44,
   "id": "04c505ed",
   "metadata": {},
   "outputs": [
    {
     "name": "stdout",
     "output_type": "stream",
     "text": [
      "Epoch 1\n"
     ]
    },
    {
     "name": "stderr",
     "output_type": "stream",
     "text": [
      "  0%|          | 0/938 [00:00<?, ?it/s]"
     ]
    },
    {
     "name": "stderr",
     "output_type": "stream",
     "text": [
      "loss=1.050266771682544 batch_id=937 Accuracy=85.13666666666667: 100%|██████████| 938/938 [06:12<00:00,  2.52it/s]   \n",
      "\n"
     ]
    },
    {
     "name": "stdout",
     "output_type": "stream",
     "text": [
      "\n",
      "Test set: Average loss: 0.01, Accuracy: 9669/10000 (96.69%)\n",
      "\n",
      "Epoch 2\n"
     ]
    },
    {
     "name": "stderr",
     "output_type": "stream",
     "text": [
      "loss=0.6952081903465775 batch_id=937 Accuracy=96.025: 100%|██████████| 938/938 [04:32<00:00,  3.44it/s]            \n",
      "\n"
     ]
    },
    {
     "name": "stdout",
     "output_type": "stream",
     "text": [
      "\n",
      "Test set: Average loss: 0.01, Accuracy: 9753/10000 (97.53%)\n",
      "\n",
      "Epoch 3\n"
     ]
    },
    {
     "name": "stderr",
     "output_type": "stream",
     "text": [
      "loss=0.6602691312842786 batch_id=937 Accuracy=96.90166666666667: 100%|██████████| 938/938 [03:20<00:00,  4.67it/s] \n",
      "\n"
     ]
    },
    {
     "name": "stdout",
     "output_type": "stream",
     "text": [
      "\n",
      "Test set: Average loss: 0.01, Accuracy: 9806/10000 (98.06%)\n",
      "\n",
      "Epoch 4\n"
     ]
    },
    {
     "name": "stderr",
     "output_type": "stream",
     "text": [
      "loss=0.6448659955946876 batch_id=937 Accuracy=97.285: 100%|██████████| 938/938 [03:52<00:00,  4.03it/s]            \n",
      "\n"
     ]
    },
    {
     "name": "stdout",
     "output_type": "stream",
     "text": [
      "\n",
      "Test set: Average loss: 0.01, Accuracy: 9813/10000 (98.13%)\n",
      "\n",
      "Epoch 5\n"
     ]
    },
    {
     "name": "stderr",
     "output_type": "stream",
     "text": [
      "loss=0.6346102832858243 batch_id=937 Accuracy=97.555: 100%|██████████| 938/938 [04:21<00:00,  3.59it/s]            \n",
      "\n"
     ]
    },
    {
     "name": "stdout",
     "output_type": "stream",
     "text": [
      "\n",
      "Test set: Average loss: 0.01, Accuracy: 9831/10000 (98.31%)\n",
      "\n",
      "Epoch 6\n"
     ]
    },
    {
     "name": "stderr",
     "output_type": "stream",
     "text": [
      "loss=0.6273529301447146 batch_id=937 Accuracy=97.69: 100%|██████████| 938/938 [04:21<00:00,  3.59it/s]             \n",
      "\n"
     ]
    },
    {
     "name": "stdout",
     "output_type": "stream",
     "text": [
      "\n",
      "Test set: Average loss: 0.01, Accuracy: 9842/10000 (98.42%)\n",
      "\n",
      "Epoch 7\n"
     ]
    },
    {
     "name": "stderr",
     "output_type": "stream",
     "text": [
      "loss=0.6215489606486201 batch_id=937 Accuracy=97.82333333333334: 100%|██████████| 938/938 [04:21<00:00,  3.59it/s] \n",
      "\n"
     ]
    },
    {
     "name": "stdout",
     "output_type": "stream",
     "text": [
      "\n",
      "Test set: Average loss: 0.01, Accuracy: 9878/10000 (98.78%)\n",
      "\n",
      "Epoch 8\n"
     ]
    },
    {
     "name": "stderr",
     "output_type": "stream",
     "text": [
      "loss=0.6166962451263786 batch_id=937 Accuracy=97.95: 100%|██████████| 938/938 [04:19<00:00,  3.61it/s]             \n",
      "\n"
     ]
    },
    {
     "name": "stdout",
     "output_type": "stream",
     "text": [
      "\n",
      "Test set: Average loss: 0.01, Accuracy: 9860/10000 (98.60%)\n",
      "\n",
      "Epoch 9\n"
     ]
    },
    {
     "name": "stderr",
     "output_type": "stream",
     "text": [
      "loss=0.6124062529250757 batch_id=937 Accuracy=98.09333333333333: 100%|██████████| 938/938 [03:52<00:00,  4.04it/s] \n",
      "\n"
     ]
    },
    {
     "name": "stdout",
     "output_type": "stream",
     "text": [
      "\n",
      "Test set: Average loss: 0.01, Accuracy: 9888/10000 (98.88%)\n",
      "\n",
      "Epoch 10\n"
     ]
    },
    {
     "name": "stderr",
     "output_type": "stream",
     "text": [
      "loss=0.6095683225182328 batch_id=937 Accuracy=98.12166666666667: 100%|██████████| 938/938 [03:25<00:00,  4.55it/s] \n",
      "\n"
     ]
    },
    {
     "name": "stdout",
     "output_type": "stream",
     "text": [
      "\n",
      "Test set: Average loss: 0.01, Accuracy: 9901/10000 (99.01%)\n",
      "\n",
      "Epoch 11\n"
     ]
    },
    {
     "name": "stderr",
     "output_type": "stream",
     "text": [
      "loss=0.6073521205992587 batch_id=937 Accuracy=98.12333333333333: 100%|██████████| 938/938 [04:48<00:00,  3.25it/s] \n",
      "\n"
     ]
    },
    {
     "name": "stdout",
     "output_type": "stream",
     "text": [
      "\n",
      "Test set: Average loss: 0.01, Accuracy: 9889/10000 (98.89%)\n",
      "\n",
      "Epoch 12\n"
     ]
    },
    {
     "name": "stderr",
     "output_type": "stream",
     "text": [
      "loss=0.6050119335209129 batch_id=937 Accuracy=98.165: 100%|██████████| 938/938 [04:49<00:00,  3.24it/s]            \n",
      "\n"
     ]
    },
    {
     "name": "stdout",
     "output_type": "stream",
     "text": [
      "\n",
      "Test set: Average loss: 0.01, Accuracy: 9891/10000 (98.91%)\n",
      "\n",
      "Epoch 13\n"
     ]
    },
    {
     "name": "stderr",
     "output_type": "stream",
     "text": [
      "loss=0.6037854391501657 batch_id=937 Accuracy=98.205: 100%|██████████| 938/938 [03:54<00:00,  4.00it/s]            \n",
      "\n"
     ]
    },
    {
     "name": "stdout",
     "output_type": "stream",
     "text": [
      "\n",
      "Test set: Average loss: 0.01, Accuracy: 9902/10000 (99.02%)\n",
      "\n",
      "Epoch 14\n"
     ]
    },
    {
     "name": "stderr",
     "output_type": "stream",
     "text": [
      "loss=0.602354497670619 batch_id=937 Accuracy=98.33166666666666: 100%|██████████| 938/938 [02:58<00:00,  5.25it/s]  \n",
      "\n"
     ]
    },
    {
     "name": "stdout",
     "output_type": "stream",
     "text": [
      "\n",
      "Test set: Average loss: 0.01, Accuracy: 9895/10000 (98.95%)\n",
      "\n",
      "Epoch 15\n"
     ]
    },
    {
     "name": "stderr",
     "output_type": "stream",
     "text": [
      "loss=0.6010051131375563 batch_id=937 Accuracy=98.345: 100%|██████████| 938/938 [03:08<00:00,  4.98it/s]            \n",
      "\n"
     ]
    },
    {
     "name": "stdout",
     "output_type": "stream",
     "text": [
      "\n",
      "Test set: Average loss: 0.01, Accuracy: 9893/10000 (98.93%)\n",
      "\n",
      "Epoch 16\n"
     ]
    },
    {
     "name": "stderr",
     "output_type": "stream",
     "text": [
      "loss=0.6005348623561453 batch_id=937 Accuracy=98.335: 100%|██████████| 938/938 [03:01<00:00,  5.16it/s]            \n",
      "\n"
     ]
    },
    {
     "name": "stdout",
     "output_type": "stream",
     "text": [
      "\n",
      "Test set: Average loss: 0.01, Accuracy: 9903/10000 (99.03%)\n",
      "\n",
      "Epoch 17\n"
     ]
    },
    {
     "name": "stderr",
     "output_type": "stream",
     "text": [
      "loss=0.6004892933978709 batch_id=937 Accuracy=98.37666666666667: 100%|██████████| 938/938 [03:58<00:00,  3.94it/s] \n",
      "\n"
     ]
    },
    {
     "name": "stdout",
     "output_type": "stream",
     "text": [
      "\n",
      "Test set: Average loss: 0.01, Accuracy: 9899/10000 (98.99%)\n",
      "\n",
      "Epoch 18\n"
     ]
    },
    {
     "name": "stderr",
     "output_type": "stream",
     "text": [
      "loss=0.6014885071879511 batch_id=937 Accuracy=98.27333333333333: 100%|██████████| 938/938 [05:02<00:00,  3.10it/s] \n",
      "\n"
     ]
    },
    {
     "name": "stdout",
     "output_type": "stream",
     "text": [
      "\n",
      "Test set: Average loss: 0.01, Accuracy: 9900/10000 (99.00%)\n",
      "\n",
      "Epoch 19\n"
     ]
    },
    {
     "name": "stderr",
     "output_type": "stream",
     "text": [
      "loss=0.6013891410344699 batch_id=937 Accuracy=98.30333333333333: 100%|██████████| 938/938 [03:17<00:00,  4.75it/s] \n",
      "\n"
     ]
    },
    {
     "name": "stdout",
     "output_type": "stream",
     "text": [
      "\n",
      "Test set: Average loss: 0.01, Accuracy: 9907/10000 (99.07%)\n",
      "\n",
      "Epoch 20\n"
     ]
    },
    {
     "name": "stderr",
     "output_type": "stream",
     "text": [
      "loss=0.6033871729236676 batch_id=937 Accuracy=98.24333333333334: 100%|██████████| 938/938 [05:12<00:00,  3.00it/s] \n",
      "\n"
     ]
    },
    {
     "name": "stdout",
     "output_type": "stream",
     "text": [
      "\n",
      "Test set: Average loss: 0.01, Accuracy: 9900/10000 (99.00%)\n",
      "\n"
     ]
    }
   ],
   "source": [
    "num_epochs = 20\n",
    "for epoch in range(1, num_epochs+1):\n",
    "    print(f'Epoch {epoch}')\n",
    "    train(model, device, train_loader, optimizer, criterion)\n",
    "    test(model, device, test_loader)\n",
    "    scheduler.step()"
   ]
  }
 ],
 "metadata": {
  "kernelspec": {
   "display_name": "ERAv4_MNIST_model_S5",
   "language": "python",
   "name": "python3"
  },
  "language_info": {
   "codemirror_mode": {
    "name": "ipython",
    "version": 3
   },
   "file_extension": ".py",
   "mimetype": "text/x-python",
   "name": "python",
   "nbconvert_exporter": "python",
   "pygments_lexer": "ipython3",
   "version": "3.10.9"
  }
 },
 "nbformat": 4,
 "nbformat_minor": 5
}
